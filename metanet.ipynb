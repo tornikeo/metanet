{
 "cells": [
  {
   "cell_type": "code",
   "execution_count": 1,
   "metadata": {
    "_cell_guid": "b1076dfc-b9ad-4769-8c92-a6c4dae69d19",
    "_uuid": "8f2839f25d086af736a60e9eeb907d3b93b6e0e5",
    "execution": {
     "iopub.execute_input": "2022-06-09T07:44:07.992974Z",
     "iopub.status.busy": "2022-06-09T07:44:07.992481Z",
     "iopub.status.idle": "2022-06-09T07:44:07.998015Z",
     "shell.execute_reply": "2022-06-09T07:44:07.997126Z",
     "shell.execute_reply.started": "2022-06-09T07:44:07.992939Z"
    }
   },
   "outputs": [],
   "source": [
    "import torch\n",
    "import numpy as np\n",
    "import matplotlib.pyplot as plt"
   ]
  },
  {
   "cell_type": "code",
   "execution_count": 2,
   "metadata": {},
   "outputs": [
    {
     "data": {
      "text/plain": [
       "True"
      ]
     },
     "execution_count": 2,
     "metadata": {},
     "output_type": "execute_result"
    }
   ],
   "source": [
    "torch.cuda.is_available() # GAH DAAM!"
   ]
  },
  {
   "cell_type": "code",
   "execution_count": 3,
   "metadata": {
    "execution": {
     "iopub.execute_input": "2022-06-09T07:44:08.107326Z",
     "iopub.status.busy": "2022-06-09T07:44:08.106577Z",
     "iopub.status.idle": "2022-06-09T07:44:08.120027Z",
     "shell.execute_reply": "2022-06-09T07:44:08.118952Z",
     "shell.execute_reply.started": "2022-06-09T07:44:08.107286Z"
    }
   },
   "outputs": [
    {
     "name": "stdout",
     "output_type": "stream",
     "text": [
      "2897.55224609375\n"
     ]
    }
   ],
   "source": [
    "import math\n",
    "device = torch.device('cpu')\n",
    "objective = lambda x: torch.sin(x)\n",
    "dtype = torch.float\n",
    "# a,b,c,d = torch.randn(4, requires_grad=True)\n",
    "\n",
    "a = torch.randn((), device=device, dtype=dtype, requires_grad=True)\n",
    "b = torch.randn((), device=device, dtype=dtype, requires_grad=True)\n",
    "c = torch.randn((), device=device, dtype=dtype, requires_grad=True)\n",
    "d = torch.randn((), device=device, dtype=dtype, requires_grad=True)\n",
    "\n",
    "# current = lambda x,a,b,c,d: x * a ** 3 + x * b ** 2 + x * c + d\n",
    "x = torch.linspace(-math.pi, math.pi, 100)\n",
    "pred = x * a ** 3 + x * b ** 2 + x * c + d\n",
    "targ = torch.sin(x)\n",
    "loss = (pred - targ).pow(2).sum()\n",
    "loss.backward()\n",
    "print(loss.item())\n",
    "lr = 0.01\n",
    "\n",
    "\n",
    "with torch.no_grad():\n",
    "    a -= lr * a.grad\n",
    "    b -= lr * b.grad    \n",
    "    c -= lr * c.grad    \n",
    "    d -= lr * d.grad    "
   ]
  },
  {
   "cell_type": "code",
   "execution_count": 4,
   "metadata": {
    "execution": {
     "iopub.execute_input": "2022-06-09T07:44:08.225910Z",
     "iopub.status.busy": "2022-06-09T07:44:08.225460Z",
     "iopub.status.idle": "2022-06-09T07:44:08.230073Z",
     "shell.execute_reply": "2022-06-09T07:44:08.228747Z",
     "shell.execute_reply.started": "2022-06-09T07:44:08.225876Z"
    }
   },
   "outputs": [],
   "source": [
    "# y = a + b P_x ( c + dx )\n",
    "# P_x = 1/2 ( 5 x ^ 3 - 3 x)"
   ]
  },
  {
   "cell_type": "code",
   "execution_count": 5,
   "metadata": {
    "execution": {
     "iopub.execute_input": "2022-06-09T07:44:08.389078Z",
     "iopub.status.busy": "2022-06-09T07:44:08.387773Z",
     "iopub.status.idle": "2022-06-09T07:44:08.402997Z",
     "shell.execute_reply": "2022-06-09T07:44:08.401996Z",
     "shell.execute_reply.started": "2022-06-09T07:44:08.389019Z"
    }
   },
   "outputs": [
    {
     "name": "stdout",
     "output_type": "stream",
     "text": [
      "461.902587890625\n"
     ]
    }
   ],
   "source": [
    "class LegendrePoly3(torch.autograd.Function):\n",
    "    @staticmethod\n",
    "    def forward(ctx, input):\n",
    "        ctx.save_for_backward(input)\n",
    "        return .5 * (5 * input ** 3 - 3 * input)\n",
    "    @staticmethod\n",
    "    def backward(ctx, grad_output):\n",
    "        input, = ctx.saved_tensors\n",
    "        return grad_output * 1.5 * (5 * input ** 2 - 1)\n",
    "    \n",
    "dtype = torch.float\n",
    "device = torch.device('cpu')\n",
    "\n",
    "# Create random Tensors for weights. For this example, we need\n",
    "# 4 weights: y = a + b * P3(c + d * x), these weights need to be initialized\n",
    "# not too far from the correct result to ensure convergence.\n",
    "# Setting requires_grad=True indicates that we want to compute gradients with\n",
    "# respect to these Tensors during the backward pass.\n",
    "a = torch.full((), 0.0, device=device, dtype=dtype, requires_grad=True)\n",
    "b = torch.full((), -1.0, device=device, dtype=dtype, requires_grad=True)\n",
    "c = torch.full((), 0.0, device=device, dtype=dtype, requires_grad=True)\n",
    "d = torch.full((), 0.3, device=device, dtype=dtype, requires_grad=True)\n",
    "\n",
    "x = torch.linspace(-math.pi, math.pi, 2000, device=device, dtype=dtype)\n",
    "y = torch.sin(x)\n",
    "\n",
    "lr = 1e-6\n",
    "\n",
    "P3 = LegendrePoly3.apply\n",
    "y_pred = a + b * P3(c + d * x)\n",
    "loss = (y_pred - y).pow(2).sum()\n",
    "print(loss.item())"
   ]
  },
  {
   "cell_type": "code",
   "execution_count": 6,
   "metadata": {
    "execution": {
     "iopub.execute_input": "2022-06-09T07:44:08.500640Z",
     "iopub.status.busy": "2022-06-09T07:44:08.499571Z",
     "iopub.status.idle": "2022-06-09T07:44:08.536259Z",
     "shell.execute_reply": "2022-06-09T07:44:08.535098Z",
     "shell.execute_reply.started": "2022-06-09T07:44:08.500570Z"
    }
   },
   "outputs": [
    {
     "name": "stdout",
     "output_type": "stream",
     "text": [
      "4 407.3111877441406\n",
      "9 155.5113983154297\n",
      "14 120.5557861328125\n",
      "19 101.30266571044922\n",
      "24 88.60757446289062\n",
      "29 80.09012603759766\n",
      "34 74.30091094970703\n",
      "39 70.2961654663086\n",
      "44 67.45943450927734\n",
      "49 65.38797760009766\n",
      "54 63.818695068359375\n",
      "59 62.57967758178711\n",
      "64 61.55859375\n",
      "69 60.68206024169922\n",
      "74 59.902103424072266\n",
      "79 59.18735885620117\n",
      "84 58.51731872558594\n",
      "89 57.87856674194336\n",
      "94 57.26232147216797\n",
      "99 56.66280746459961\n"
     ]
    }
   ],
   "source": [
    "from torch import nn\n",
    "x = torch.linspace(-math.pi, math.pi, 100)\n",
    "y = torch.sin(x)\n",
    "p = torch.tensor([1,2,3])\n",
    "xx = x.unsqueeze(-1).pow(p)\n",
    "\n",
    "model = torch.nn.Sequential(\n",
    "    nn.Linear(3,1),\n",
    "    nn.Flatten(0,1)\n",
    ")\n",
    "loss_fn = nn.MSELoss(reduction=\"sum\")\n",
    "# model(torch.randn(1,3))\n",
    "lr = 1e-5\n",
    "for t in range(100):\n",
    "    y_pred = model(xx)\n",
    "#     loss = (y_pred - y).pow(2).\n",
    "    loss = loss_fn(y_pred,y)\n",
    "    if t % 5 == 4:\n",
    "        print(t, loss.item())\n",
    "    model.zero_grad()\n",
    "    loss.backward()\n",
    "    with torch.no_grad():\n",
    "        for param in model.parameters():\n",
    "            param -= lr * param.grad"
   ]
  },
  {
   "cell_type": "code",
   "execution_count": 7,
   "metadata": {
    "execution": {
     "iopub.execute_input": "2022-06-09T07:44:08.616555Z",
     "iopub.status.busy": "2022-06-09T07:44:08.616096Z",
     "iopub.status.idle": "2022-06-09T07:44:08.660156Z",
     "shell.execute_reply": "2022-06-09T07:44:08.658930Z",
     "shell.execute_reply.started": "2022-06-09T07:44:08.616509Z"
    }
   },
   "outputs": [
    {
     "name": "stdout",
     "output_type": "stream",
     "text": [
      "4 763.6835327148438\n",
      "9 180.79302978515625\n",
      "14 61.87998962402344\n",
      "19 33.138084411621094\n",
      "24 23.851167678833008\n",
      "29 19.15550994873047\n",
      "34 15.866190910339355\n",
      "39 13.253857612609863\n",
      "44 11.104596138000488\n",
      "49 9.31978988647461\n",
      "54 7.833930015563965\n",
      "59 6.596404552459717\n",
      "64 5.566198348999023\n",
      "69 4.709469795227051\n",
      "74 3.998049259185791\n",
      "79 3.408339738845825\n",
      "84 2.920483350753784\n",
      "89 2.5177314281463623\n",
      "94 2.1859323978424072\n",
      "99 1.9131217002868652\n"
     ]
    }
   ],
   "source": [
    "from torch import nn\n",
    "x = torch.linspace(-math.pi, math.pi, 100)\n",
    "y = torch.sin(x)\n",
    "p = torch.tensor([1,2,3])\n",
    "xx = x.unsqueeze(-1).pow(p)\n",
    "\n",
    "model = torch.nn.Sequential(\n",
    "    nn.Linear(3,1),\n",
    "    nn.Flatten(0,1)\n",
    ")\n",
    "loss_fn = nn.MSELoss(reduction=\"sum\")\n",
    "# model(torch.randn(1,3))\n",
    "lr = 1e-2\n",
    "optim = torch.optim.RMSprop(model.parameters(), lr=lr)\n",
    "for t in range(100):\n",
    "    y_pred = model(xx)\n",
    "#     loss = (y_pred - y).pow(2).\n",
    "    loss = loss_fn(y_pred,y)\n",
    "    if t % 5 == 4:\n",
    "        print(t, loss.item())\n",
    "    model.zero_grad()\n",
    "    loss.backward()\n",
    "    optim.step()\n",
    "#     with torch.no_grad():\n",
    "#         for param in model.parameters():\n",
    "#             param -= lr * param.grad"
   ]
  },
  {
   "cell_type": "code",
   "execution_count": 8,
   "metadata": {
    "execution": {
     "iopub.execute_input": "2022-06-09T07:44:08.732173Z",
     "iopub.status.busy": "2022-06-09T07:44:08.731660Z",
     "iopub.status.idle": "2022-06-09T07:44:08.779346Z",
     "shell.execute_reply": "2022-06-09T07:44:08.778203Z",
     "shell.execute_reply.started": "2022-06-09T07:44:08.732138Z"
    }
   },
   "outputs": [
    {
     "name": "stdout",
     "output_type": "stream",
     "text": [
      "4 490.770263671875\n",
      "9 119.39785766601562\n",
      "14 55.51756286621094\n",
      "19 43.08256530761719\n",
      "24 40.47768020629883\n",
      "29 39.882896423339844\n",
      "34 39.72060775756836\n",
      "39 39.65659713745117\n",
      "44 39.61796951293945\n",
      "49 39.58843994140625\n",
      "54 39.56406784057617\n",
      "59 39.54362487792969\n",
      "64 39.526466369628906\n",
      "69 39.51212692260742\n",
      "74 39.50020217895508\n",
      "79 39.49034118652344\n",
      "84 39.48223114013672\n",
      "89 39.475589752197266\n",
      "94 39.470191955566406\n",
      "99 39.46582794189453\n"
     ]
    }
   ],
   "source": [
    "from torch import nn\n",
    "x = torch.linspace(-math.pi, math.pi, 100)\n",
    "y = torch.sin(x)\n",
    "class Poly3(nn.Module):\n",
    "    def __init__(self):\n",
    "        super().__init__()\n",
    "        self.a = torch.nn.Parameter(torch.randn(()))\n",
    "        self.b = torch.nn.Parameter(torch.randn(()))\n",
    "        self.c = torch.nn.Parameter(torch.randn(()))\n",
    "        self.d = torch.nn.Parameter(torch.randn(()))\n",
    "    def forward(self, x):\n",
    "        return self.a + self.b + self.c * x ** 2 + self.d * x ** 3\n",
    "    def string(self):\n",
    "        return f'y = {self.a.item()} + {self.b.item()} x + {self.c.item()} x^2 + {self.d.item()} x^3'\n",
    "\n",
    "model = Poly3()\n",
    "loss_fn = nn.MSELoss(reduction=\"sum\")\n",
    "lr = 1e-2\n",
    "optim = torch.optim.RMSprop(model.parameters(), lr=lr)\n",
    "for t in range(100):\n",
    "    y_pred = model(x)\n",
    "    loss = loss_fn(y_pred,y)\n",
    "    if t % 5 == 4:\n",
    "        print(t, loss.item())\n",
    "#     model.zero_grad()\n",
    "    optim.zero_grad()\n",
    "    loss.backward()\n",
    "    optim.step()"
   ]
  },
  {
   "cell_type": "code",
   "execution_count": 9,
   "metadata": {
    "execution": {
     "iopub.execute_input": "2022-06-09T07:44:08.843788Z",
     "iopub.status.busy": "2022-06-09T07:44:08.843333Z",
     "iopub.status.idle": "2022-06-09T07:44:08.851192Z",
     "shell.execute_reply": "2022-06-09T07:44:08.850241Z",
     "shell.execute_reply.started": "2022-06-09T07:44:08.843753Z"
    }
   },
   "outputs": [],
   "source": [
    "from pathlib import Path\n",
    "import requests\n",
    "\n",
    "DATA_PATH = Path(\"data\")\n",
    "PATH = DATA_PATH / \"mnist\"\n",
    "\n",
    "PATH.mkdir(parents=True, exist_ok=True)\n",
    "\n",
    "URL = \"https://github.com/pytorch/tutorials/raw/master/_static/\"\n",
    "FILENAME = \"mnist.pkl.gz\"\n",
    "\n",
    "if not (PATH / FILENAME).exists():\n",
    "        content = requests.get(URL + FILENAME).content\n",
    "        (PATH / FILENAME).open(\"wb\").write(content)"
   ]
  },
  {
   "cell_type": "code",
   "execution_count": 10,
   "metadata": {
    "execution": {
     "iopub.execute_input": "2022-06-09T07:44:08.955440Z",
     "iopub.status.busy": "2022-06-09T07:44:08.954753Z",
     "iopub.status.idle": "2022-06-09T07:44:10.671099Z",
     "shell.execute_reply": "2022-06-09T07:44:10.669919Z",
     "shell.execute_reply.started": "2022-06-09T07:44:08.955380Z"
    }
   },
   "outputs": [],
   "source": [
    "import pickle\n",
    "import gzip\n",
    "\n",
    "with gzip.open((PATH / FILENAME).as_posix(), \"rb\") as f:\n",
    "        ((x_train, y_train), (x_valid, y_valid), _) = pickle.load(f, encoding=\"latin-1\")"
   ]
  },
  {
   "cell_type": "code",
   "execution_count": 11,
   "metadata": {
    "execution": {
     "iopub.execute_input": "2022-06-09T07:44:10.673182Z",
     "iopub.status.busy": "2022-06-09T07:44:10.672801Z",
     "iopub.status.idle": "2022-06-09T07:44:10.680720Z",
     "shell.execute_reply": "2022-06-09T07:44:10.679591Z",
     "shell.execute_reply.started": "2022-06-09T07:44:10.673149Z"
    }
   },
   "outputs": [
    {
     "data": {
      "text/plain": [
       "array([[0., 0., 0., ..., 0., 0., 0.],\n",
       "       [0., 0., 0., ..., 0., 0., 0.],\n",
       "       [0., 0., 0., ..., 0., 0., 0.],\n",
       "       ...,\n",
       "       [0., 0., 0., ..., 0., 0., 0.],\n",
       "       [0., 0., 0., ..., 0., 0., 0.],\n",
       "       [0., 0., 0., ..., 0., 0., 0.]], dtype=float32)"
      ]
     },
     "execution_count": 11,
     "metadata": {},
     "output_type": "execute_result"
    }
   ],
   "source": [
    "x_train"
   ]
  },
  {
   "cell_type": "code",
   "execution_count": 12,
   "metadata": {
    "execution": {
     "iopub.execute_input": "2022-06-09T07:44:10.682901Z",
     "iopub.status.busy": "2022-06-09T07:44:10.682399Z",
     "iopub.status.idle": "2022-06-09T07:44:10.875629Z",
     "shell.execute_reply": "2022-06-09T07:44:10.874136Z",
     "shell.execute_reply.started": "2022-06-09T07:44:10.682856Z"
    }
   },
   "outputs": [
    {
     "name": "stdout",
     "output_type": "stream",
     "text": [
      "(50000, 784)\n"
     ]
    },
    {
     "data": {
      "image/png": "[encoded data removed]",
      "text/plain": [
       "<Figure size 432x288 with 1 Axes>"
      ]
     },
     "metadata": {
      "needs_background": "light"
     },
     "output_type": "display_data"
    }
   ],
   "source": [
    "from matplotlib import pyplot\n",
    "import numpy as np\n",
    "\n",
    "pyplot.imshow(x_train[0].reshape((28, 28)), cmap=\"gray\")\n",
    "print(x_train.shape)"
   ]
  },
  {
   "cell_type": "code",
   "execution_count": 13,
   "metadata": {
    "execution": {
     "iopub.execute_input": "2022-06-09T07:44:10.878810Z",
     "iopub.status.busy": "2022-06-09T07:44:10.878257Z",
     "iopub.status.idle": "2022-06-09T07:44:11.017926Z",
     "shell.execute_reply": "2022-06-09T07:44:11.016368Z",
     "shell.execute_reply.started": "2022-06-09T07:44:10.878762Z"
    }
   },
   "outputs": [],
   "source": [
    "x_train, y_train, x_valid, y_valid = map(\n",
    "    torch.tensor, (x_train, y_train, x_valid, y_valid)\n",
    ")"
   ]
  },
  {
   "cell_type": "code",
   "execution_count": 14,
   "metadata": {
    "execution": {
     "iopub.execute_input": "2022-06-09T07:44:11.019934Z",
     "iopub.status.busy": "2022-06-09T07:44:11.019459Z",
     "iopub.status.idle": "2022-06-09T07:44:11.028180Z",
     "shell.execute_reply": "2022-06-09T07:44:11.026489Z",
     "shell.execute_reply.started": "2022-06-09T07:44:11.019897Z"
    }
   },
   "outputs": [
    {
     "name": "stdout",
     "output_type": "stream",
     "text": [
      "torch.Size([50000, 784])\n"
     ]
    }
   ],
   "source": [
    "n, c = x_train.shape\n",
    "print(x_train.shape,)# x_train.min(), x_train.max(), set(y_train))"
   ]
  },
  {
   "cell_type": "code",
   "execution_count": 15,
   "metadata": {
    "execution": {
     "iopub.execute_input": "2022-06-09T07:44:11.030430Z",
     "iopub.status.busy": "2022-06-09T07:44:11.029868Z",
     "iopub.status.idle": "2022-06-09T07:44:11.051286Z",
     "shell.execute_reply": "2022-06-09T07:44:11.050042Z",
     "shell.execute_reply.started": "2022-06-09T07:44:11.030391Z"
    }
   },
   "outputs": [
    {
     "data": {
      "text/plain": [
       "{0, 1, 2, 3, 4, 5, 6, 7, 8, 9}"
      ]
     },
     "execution_count": 15,
     "metadata": {},
     "output_type": "execute_result"
    }
   ],
   "source": [
    "set(y_train.numpy())"
   ]
  },
  {
   "cell_type": "code",
   "execution_count": 16,
   "metadata": {
    "execution": {
     "iopub.execute_input": "2022-06-09T07:44:11.053316Z",
     "iopub.status.busy": "2022-06-09T07:44:11.052777Z",
     "iopub.status.idle": "2022-06-09T07:44:11.065133Z",
     "shell.execute_reply": "2022-06-09T07:44:11.064009Z",
     "shell.execute_reply.started": "2022-06-09T07:44:11.053281Z"
    }
   },
   "outputs": [],
   "source": [
    "weights = torch.randn(c,10) / (c ** .5)# Miss xavier\n",
    "weights.requires_grad_()\n",
    "bias = torch.zeros(10, requires_grad=True)"
   ]
  },
  {
   "cell_type": "code",
   "execution_count": 17,
   "metadata": {
    "execution": {
     "iopub.execute_input": "2022-06-09T07:44:11.066876Z",
     "iopub.status.busy": "2022-06-09T07:44:11.066534Z",
     "iopub.status.idle": "2022-06-09T07:44:11.082393Z",
     "shell.execute_reply": "2022-06-09T07:44:11.081210Z",
     "shell.execute_reply.started": "2022-06-09T07:44:11.066845Z"
    }
   },
   "outputs": [],
   "source": [
    "def log_softmax(x):\n",
    "    return x - x.exp().sum(-1).log().unsqueeze(-1)\n",
    "\n",
    "def model(xb):\n",
    "    return log_softmax(xb @ weights + bias)\n",
    "\n",
    "def model(x):\n",
    "    x = x @ weights + bias\n",
    "    return x - x.exp().sum(-1).log().unsqueeze(-1)"
   ]
  },
  {
   "cell_type": "code",
   "execution_count": 18,
   "metadata": {
    "execution": {
     "iopub.execute_input": "2022-06-09T07:44:11.084857Z",
     "iopub.status.busy": "2022-06-09T07:44:11.083952Z",
     "iopub.status.idle": "2022-06-09T07:44:11.098426Z",
     "shell.execute_reply": "2022-06-09T07:44:11.097584Z",
     "shell.execute_reply.started": "2022-06-09T07:44:11.084817Z"
    }
   },
   "outputs": [
    {
     "name": "stdout",
     "output_type": "stream",
     "text": [
      "tensor([-2.4541, -2.2171, -2.1006, -2.7535, -2.1139, -2.4597, -2.3036, -2.1495,\n",
      "        -2.3034, -2.3387], grad_fn=<SelectBackward0>) torch.Size([64, 10])\n"
     ]
    }
   ],
   "source": [
    "bs = 64\n",
    "\n",
    "xb = x_train[0:bs]\n",
    "preds = model(xb)\n",
    "preds[0], preds.shape\n",
    "print(preds[0], preds.shape)"
   ]
  },
  {
   "cell_type": "code",
   "execution_count": 19,
   "metadata": {
    "execution": {
     "iopub.execute_input": "2022-06-09T07:44:11.101908Z",
     "iopub.status.busy": "2022-06-09T07:44:11.101269Z",
     "iopub.status.idle": "2022-06-09T07:44:11.114474Z",
     "shell.execute_reply": "2022-06-09T07:44:11.113527Z",
     "shell.execute_reply.started": "2022-06-09T07:44:11.101871Z"
    }
   },
   "outputs": [
    {
     "data": {
      "text/plain": [
       "tensor(2.3538, grad_fn=<NegBackward0>)"
      ]
     },
     "execution_count": 19,
     "metadata": {},
     "output_type": "execute_result"
    }
   ],
   "source": [
    "def nll(input, target):\n",
    "    return -input[range(target.shape[0]), target].mean()\n",
    "\n",
    "yb = y_train[0:bs]\n",
    "nll(preds, yb)"
   ]
  },
  {
   "cell_type": "code",
   "execution_count": 20,
   "metadata": {
    "execution": {
     "iopub.execute_input": "2022-06-09T07:44:11.116915Z",
     "iopub.status.busy": "2022-06-09T07:44:11.116294Z",
     "iopub.status.idle": "2022-06-09T07:44:11.126100Z",
     "shell.execute_reply": "2022-06-09T07:44:11.125181Z",
     "shell.execute_reply.started": "2022-06-09T07:44:11.116879Z"
    }
   },
   "outputs": [],
   "source": [
    "def acc(out, yb):\n",
    "    return (torch.argmax(out, dim=1) == yb).float().mean()"
   ]
  },
  {
   "cell_type": "code",
   "execution_count": 21,
   "metadata": {
    "execution": {
     "iopub.execute_input": "2022-06-09T07:44:11.128735Z",
     "iopub.status.busy": "2022-06-09T07:44:11.127560Z",
     "iopub.status.idle": "2022-06-09T07:44:11.144182Z",
     "shell.execute_reply": "2022-06-09T07:44:11.143296Z",
     "shell.execute_reply.started": "2022-06-09T07:44:11.128688Z"
    }
   },
   "outputs": [
    {
     "data": {
      "text/plain": [
       "tensor(0.0781)"
      ]
     },
     "execution_count": 21,
     "metadata": {},
     "output_type": "execute_result"
    }
   ],
   "source": [
    "acc(preds, yb)"
   ]
  },
  {
   "cell_type": "code",
   "execution_count": 22,
   "metadata": {
    "execution": {
     "iopub.execute_input": "2022-06-09T07:44:11.146474Z",
     "iopub.status.busy": "2022-06-09T07:44:11.146008Z",
     "iopub.status.idle": "2022-06-09T07:44:11.154795Z",
     "shell.execute_reply": "2022-06-09T07:44:11.153908Z",
     "shell.execute_reply.started": "2022-06-09T07:44:11.146417Z"
    }
   },
   "outputs": [],
   "source": [
    "from torch import tensor, nn"
   ]
  },
  {
   "cell_type": "code",
   "execution_count": 23,
   "metadata": {
    "execution": {
     "iopub.execute_input": "2022-06-09T07:44:11.156727Z",
     "iopub.status.busy": "2022-06-09T07:44:11.155988Z",
     "iopub.status.idle": "2022-06-09T07:44:12.914028Z",
     "shell.execute_reply": "2022-06-09T07:44:12.912912Z",
     "shell.execute_reply.started": "2022-06-09T07:44:11.156689Z"
    }
   },
   "outputs": [
    {
     "name": "stdout",
     "output_type": "stream",
     "text": [
      "0.23318099975585938 tensor(0.9062)\n",
      "0.3853946924209595 tensor(0.8438)\n",
      "0.18827174603939056 tensor(0.9531)\n",
      "0.32346245646476746 tensor(0.9375)\n",
      "0.36743247509002686 tensor(0.9062)\n",
      "0.3871615529060364 tensor(0.8281)\n",
      "0.22877299785614014 tensor(0.9219)\n",
      "0.12487372010946274 tensor(0.9844)\n",
      "0.3280148506164551 tensor(0.8906)\n",
      "0.15450865030288696 tensor(0.9531)\n",
      "0.3395392894744873 tensor(0.9375)\n",
      "0.35556456446647644 tensor(0.8906)\n",
      "0.35653752088546753 tensor(0.8438)\n",
      "0.19137795269489288 tensor(0.9375)\n",
      "0.10974079370498657 tensor(0.9844)\n",
      "0.3151162564754486 tensor(0.8750)\n",
      "0.15093034505844116 tensor(0.9531)\n",
      "0.3570791482925415 tensor(0.9375)\n",
      "0.34106481075286865 tensor(0.8906)\n",
      "0.3248087763786316 tensor(0.8438)\n",
      "0.1738087236881256 tensor(0.9375)\n",
      "0.10491763800382614 tensor(0.9844)\n",
      "0.30545854568481445 tensor(0.8750)\n",
      "0.14947614073753357 tensor(0.9531)\n",
      "0.3711850345134735 tensor(0.9375)\n",
      "0.32969725131988525 tensor(0.8906)\n",
      "0.30371522903442383 tensor(0.8594)\n",
      "0.16346898674964905 tensor(0.9375)\n"
     ]
    }
   ],
   "source": [
    "from IPython.core.debugger import set_trace\n",
    "weights = torch.randn(c,10) / (c ** .5)# Miss xavier\n",
    "weights.requires_grad_()\n",
    "bias = torch.zeros(10, requires_grad=True)\n",
    "\n",
    "lr = .009\n",
    "epochs = 4\n",
    "\n",
    "optim = torch.optim.RMSprop([weights,bias], lr=lr)\n",
    "for epoch in range(epochs):\n",
    "    for i in range((n-1)//bs + 1):\n",
    "#         set_trace()\n",
    "        start_i = i*bs\n",
    "        end_i = start_i + bs\n",
    "        xb = x_train[start_i:end_i]\n",
    "        yb = y_train[start_i:end_i]\n",
    "        pred = model(xb)\n",
    "        loss = nll(pred, yb)\n",
    "        loss.backward()\n",
    "        if i % 100 == 99:\n",
    "            print(loss.item(), acc(pred, yb))\n",
    "        with torch.no_grad():\n",
    "            optim.step()\n",
    "            weights.grad.zero_()\n",
    "            bias.grad.zero_()\n",
    "#             weights -= weights.grad * lr\n",
    "#             bias -= bias.grad * lr            "
   ]
  },
  {
   "cell_type": "code",
   "execution_count": 24,
   "metadata": {
    "execution": {
     "iopub.execute_input": "2022-06-09T07:44:12.916459Z",
     "iopub.status.busy": "2022-06-09T07:44:12.915756Z",
     "iopub.status.idle": "2022-06-09T07:44:12.922720Z",
     "shell.execute_reply": "2022-06-09T07:44:12.921570Z",
     "shell.execute_reply.started": "2022-06-09T07:44:12.916407Z"
    }
   },
   "outputs": [],
   "source": [
    "import torch.nn.functional as F\n",
    "loss_func = F.cross_entropy\n",
    "def model(xb):\n",
    "    return xb @ weights + bias"
   ]
  },
  {
   "cell_type": "code",
   "execution_count": 25,
   "metadata": {
    "execution": {
     "iopub.execute_input": "2022-06-09T07:44:12.924863Z",
     "iopub.status.busy": "2022-06-09T07:44:12.924158Z",
     "iopub.status.idle": "2022-06-09T07:44:12.939017Z",
     "shell.execute_reply": "2022-06-09T07:44:12.937984Z",
     "shell.execute_reply.started": "2022-06-09T07:44:12.924813Z"
    }
   },
   "outputs": [
    {
     "name": "stdout",
     "output_type": "stream",
     "text": [
      "tensor(0.0611, grad_fn=<NllLossBackward0>) tensor(0.9375)\n"
     ]
    }
   ],
   "source": [
    "print(loss_func(model(xb), yb), acc(model(xb), yb))"
   ]
  },
  {
   "cell_type": "code",
   "execution_count": 26,
   "metadata": {
    "execution": {
     "iopub.execute_input": "2022-06-09T07:44:12.941259Z",
     "iopub.status.busy": "2022-06-09T07:44:12.940444Z",
     "iopub.status.idle": "2022-06-09T07:44:12.951797Z",
     "shell.execute_reply": "2022-06-09T07:44:12.950645Z",
     "shell.execute_reply.started": "2022-06-09T07:44:12.941210Z"
    }
   },
   "outputs": [],
   "source": [
    "class MnistLogistic(nn.Module):\n",
    "    def __init__(self):\n",
    "        super().__init__()\n",
    "        self.weights = nn.Parameter(torch.randn(c,10) / (c ** .5))\n",
    "        self.bias = nn.Parameter(torch.zeros(10))\n",
    "    def forward(self, x):\n",
    "        return x @ self.weights + self.bias"
   ]
  },
  {
   "cell_type": "code",
   "execution_count": 27,
   "metadata": {
    "execution": {
     "iopub.execute_input": "2022-06-09T07:44:12.953587Z",
     "iopub.status.busy": "2022-06-09T07:44:12.953205Z",
     "iopub.status.idle": "2022-06-09T07:44:12.970024Z",
     "shell.execute_reply": "2022-06-09T07:44:12.968919Z",
     "shell.execute_reply.started": "2022-06-09T07:44:12.953553Z"
    }
   },
   "outputs": [
    {
     "data": {
      "text/plain": [
       "tensor(2.3165, grad_fn=<NllLossBackward0>)"
      ]
     },
     "execution_count": 27,
     "metadata": {},
     "output_type": "execute_result"
    }
   ],
   "source": [
    "model = MnistLogistic()\n",
    "loss_func(model(xb), yb)"
   ]
  },
  {
   "cell_type": "code",
   "execution_count": 28,
   "metadata": {
    "execution": {
     "iopub.execute_input": "2022-06-09T07:44:12.972662Z",
     "iopub.status.busy": "2022-06-09T07:44:12.971533Z",
     "iopub.status.idle": "2022-06-09T07:44:14.018619Z",
     "shell.execute_reply": "2022-06-09T07:44:14.017726Z",
     "shell.execute_reply.started": "2022-06-09T07:44:12.972611Z"
    }
   },
   "outputs": [],
   "source": [
    "def fit():\n",
    "    for epoch in range(epochs):\n",
    "        for i in range((n - 1) // bs + 1):\n",
    "            start_i = i * bs\n",
    "            end_i = start_i + bs\n",
    "            xb = x_train[start_i:end_i]\n",
    "            yb = y_train[start_i:end_i]\n",
    "            pred = model(xb)\n",
    "            loss = loss_func(pred, yb)\n",
    "\n",
    "            loss.backward()\n",
    "            with torch.no_grad():\n",
    "                for p in model.parameters():\n",
    "                    p -= p.grad * lr\n",
    "                model.zero_grad()\n",
    "                \n",
    "fit()"
   ]
  },
  {
   "cell_type": "code",
   "execution_count": 29,
   "metadata": {
    "execution": {
     "iopub.execute_input": "2022-06-09T07:44:14.020949Z",
     "iopub.status.busy": "2022-06-09T07:44:14.019834Z",
     "iopub.status.idle": "2022-06-09T07:44:14.028542Z",
     "shell.execute_reply": "2022-06-09T07:44:14.026969Z",
     "shell.execute_reply.started": "2022-06-09T07:44:14.020899Z"
    }
   },
   "outputs": [
    {
     "name": "stdout",
     "output_type": "stream",
     "text": [
      "tensor(0.8442, grad_fn=<NllLossBackward0>)\n"
     ]
    }
   ],
   "source": [
    "print(loss_func(model(xb), yb))"
   ]
  },
  {
   "cell_type": "code",
   "execution_count": 30,
   "metadata": {
    "execution": {
     "iopub.execute_input": "2022-06-09T07:44:14.030383Z",
     "iopub.status.busy": "2022-06-09T07:44:14.029902Z",
     "iopub.status.idle": "2022-06-09T07:44:14.042426Z",
     "shell.execute_reply": "2022-06-09T07:44:14.041102Z",
     "shell.execute_reply.started": "2022-06-09T07:44:14.030352Z"
    }
   },
   "outputs": [],
   "source": [
    "class MnistLogistic(nn.Module):\n",
    "    def __init__(self):\n",
    "        super().__init__()\n",
    "        self.lin = nn.Linear(c,10)\n",
    "        \n",
    "    def forward(self, xb):\n",
    "        return self.lin(xb)"
   ]
  },
  {
   "cell_type": "code",
   "execution_count": 31,
   "metadata": {
    "execution": {
     "iopub.execute_input": "2022-06-09T07:44:14.044374Z",
     "iopub.status.busy": "2022-06-09T07:44:14.043650Z",
     "iopub.status.idle": "2022-06-09T07:44:14.065872Z",
     "shell.execute_reply": "2022-06-09T07:44:14.064804Z",
     "shell.execute_reply.started": "2022-06-09T07:44:14.044339Z"
    }
   },
   "outputs": [],
   "source": [
    "from torch import optim\n",
    "def get_model():\n",
    "    model = MnistLogistic()\n",
    "    opt = optim.SGD(model.parameters(), lr=lr)\n",
    "    return model, opt"
   ]
  },
  {
   "cell_type": "code",
   "execution_count": 32,
   "metadata": {
    "execution": {
     "iopub.execute_input": "2022-06-09T07:44:14.067412Z",
     "iopub.status.busy": "2022-06-09T07:44:14.067076Z",
     "iopub.status.idle": "2022-06-09T07:44:14.082161Z",
     "shell.execute_reply": "2022-06-09T07:44:14.080958Z",
     "shell.execute_reply.started": "2022-06-09T07:44:14.067384Z"
    }
   },
   "outputs": [],
   "source": [
    "model, opt = get_model()\n",
    "loss = loss_func(model(xb), yb)\n",
    "loss.backward()\n",
    "opt.step()\n",
    "opt.zero_grad()"
   ]
  },
  {
   "cell_type": "code",
   "execution_count": 33,
   "metadata": {
    "execution": {
     "iopub.execute_input": "2022-06-09T07:44:14.084556Z",
     "iopub.status.busy": "2022-06-09T07:44:14.083600Z",
     "iopub.status.idle": "2022-06-09T07:44:14.095414Z",
     "shell.execute_reply": "2022-06-09T07:44:14.094445Z",
     "shell.execute_reply.started": "2022-06-09T07:44:14.084506Z"
    }
   },
   "outputs": [],
   "source": [
    "from torch.utils.data import TensorDataset"
   ]
  },
  {
   "cell_type": "code",
   "execution_count": 34,
   "metadata": {
    "execution": {
     "iopub.execute_input": "2022-06-09T07:44:14.097785Z",
     "iopub.status.busy": "2022-06-09T07:44:14.097119Z",
     "iopub.status.idle": "2022-06-09T07:44:14.108769Z",
     "shell.execute_reply": "2022-06-09T07:44:14.107741Z",
     "shell.execute_reply.started": "2022-06-09T07:44:14.097742Z"
    }
   },
   "outputs": [],
   "source": [
    "train_ds = TensorDataset(x_train, y_train)"
   ]
  },
  {
   "cell_type": "code",
   "execution_count": 35,
   "metadata": {
    "execution": {
     "iopub.execute_input": "2022-06-09T07:44:14.110560Z",
     "iopub.status.busy": "2022-06-09T07:44:14.109848Z",
     "iopub.status.idle": "2022-06-09T07:44:14.123925Z",
     "shell.execute_reply": "2022-06-09T07:44:14.123037Z",
     "shell.execute_reply.started": "2022-06-09T07:44:14.110513Z"
    }
   },
   "outputs": [
    {
     "data": {
      "text/plain": [
       "(tensor([[0., 0., 0.,  ..., 0., 0., 0.],\n",
       "         [0., 0., 0.,  ..., 0., 0., 0.],\n",
       "         [0., 0., 0.,  ..., 0., 0., 0.],\n",
       "         ...,\n",
       "         [0., 0., 0.,  ..., 0., 0., 0.],\n",
       "         [0., 0., 0.,  ..., 0., 0., 0.],\n",
       "         [0., 0., 0.,  ..., 0., 0., 0.]]),\n",
       " tensor([5, 0, 4, 1, 9, 2, 1, 3, 1, 4]))"
      ]
     },
     "execution_count": 35,
     "metadata": {},
     "output_type": "execute_result"
    }
   ],
   "source": [
    "train_ds[:10]"
   ]
  },
  {
   "cell_type": "code",
   "execution_count": 36,
   "metadata": {
    "execution": {
     "iopub.execute_input": "2022-06-09T07:44:14.125275Z",
     "iopub.status.busy": "2022-06-09T07:44:14.124924Z",
     "iopub.status.idle": "2022-06-09T07:44:15.186113Z",
     "shell.execute_reply": "2022-06-09T07:44:15.184937Z",
     "shell.execute_reply.started": "2022-06-09T07:44:14.125245Z"
    }
   },
   "outputs": [
    {
     "name": "stdout",
     "output_type": "stream",
     "text": [
      "1.617518663406372 0.734375\n",
      "1.280930757522583 0.796875\n",
      "1.1348490715026855 0.765625\n",
      "0.8742579221725464 0.875\n",
      "0.8725756406784058 0.796875\n",
      "0.8675013184547424 0.765625\n",
      "0.7635241746902466 0.84375\n",
      "0.56879723072052 0.890625\n",
      "0.7261471748352051 0.8125\n",
      "0.6836913228034973 0.84375\n",
      "0.5618633031845093 0.890625\n",
      "0.6122384071350098 0.890625\n",
      "0.6543729901313782 0.796875\n",
      "0.5655532479286194 0.84375\n",
      "0.422725111246109 0.890625\n",
      "0.6153165102005005 0.828125\n",
      "0.5628678798675537 0.859375\n",
      "0.4879305362701416 0.921875\n",
      "0.5256713628768921 0.890625\n",
      "0.5761256814002991 0.8125\n",
      "0.49027958512306213 0.875\n",
      "0.36326614022254944 0.890625\n",
      "0.5604842305183411 0.828125\n",
      "0.5005891919136047 0.859375\n",
      "0.45424097776412964 0.921875\n",
      "0.47850266098976135 0.890625\n",
      "0.5318121910095215 0.8125\n",
      "0.4487466812133789 0.890625\n"
     ]
    }
   ],
   "source": [
    "model,opt = get_model()\n",
    "\n",
    "for epoch in range(epochs):\n",
    "    for i in range((n - 1) // bs + 1):\n",
    "        xb, yb = train_ds[i * bs: i * bs + bs ]\n",
    "        pred = model(xb)\n",
    "        loss = loss_func(pred, yb)\n",
    "        loss.backward()\n",
    "        if i % 100 == 99:\n",
    "            print(loss.item(),acc(pred, yb).item())\n",
    "        opt.step()\n",
    "        opt.zero_grad()"
   ]
  },
  {
   "cell_type": "code",
   "execution_count": 37,
   "metadata": {
    "execution": {
     "iopub.execute_input": "2022-06-09T07:48:44.199658Z",
     "iopub.status.busy": "2022-06-09T07:48:44.199176Z",
     "iopub.status.idle": "2022-06-09T07:48:44.205307Z",
     "shell.execute_reply": "2022-06-09T07:48:44.204578Z",
     "shell.execute_reply.started": "2022-06-09T07:48:44.199622Z"
    }
   },
   "outputs": [],
   "source": [
    "from torch.utils import data\n",
    "from torch.utils.data import DataLoader\n",
    "\n",
    "train_ds = data.TensorDataset(x_train, y_train)\n",
    "train_dl = data.DataLoader(train_ds, batch_size=bs)"
   ]
  },
  {
   "cell_type": "code",
   "execution_count": 38,
   "metadata": {
    "execution": {
     "iopub.execute_input": "2022-06-09T07:47:02.701366Z",
     "iopub.status.busy": "2022-06-09T07:47:02.700973Z",
     "iopub.status.idle": "2022-06-09T07:47:05.357682Z",
     "shell.execute_reply": "2022-06-09T07:47:05.356473Z",
     "shell.execute_reply.started": "2022-06-09T07:47:02.701337Z"
    }
   },
   "outputs": [
    {
     "name": "stdout",
     "output_type": "stream",
     "text": [
      "tensor(0.8312, grad_fn=<NllLossBackward0>)\n"
     ]
    }
   ],
   "source": [
    "model, opt = get_model()\n",
    "\n",
    "for epoch in range(epochs):\n",
    "    for xb, yb in train_dl:\n",
    "        pred = model(xb)\n",
    "        loss = loss_func(pred, yb)\n",
    "\n",
    "        loss.backward()\n",
    "        opt.step()\n",
    "        opt.zero_grad()\n",
    "\n",
    "print(loss_func(model(xb), yb))"
   ]
  },
  {
   "cell_type": "code",
   "execution_count": 39,
   "metadata": {
    "execution": {
     "iopub.execute_input": "2022-06-09T07:49:37.116142Z",
     "iopub.status.busy": "2022-06-09T07:49:37.115704Z",
     "iopub.status.idle": "2022-06-09T07:49:37.121520Z",
     "shell.execute_reply": "2022-06-09T07:49:37.120259Z",
     "shell.execute_reply.started": "2022-06-09T07:49:37.116100Z"
    }
   },
   "outputs": [],
   "source": [
    "train_ds = TensorDataset(x_train, y_train)\n",
    "train_dl = DataLoader(train_ds, shuffle=True, batch_size=bs)"
   ]
  },
  {
   "cell_type": "code",
   "execution_count": 40,
   "metadata": {
    "execution": {
     "iopub.execute_input": "2022-06-09T07:49:59.342836Z",
     "iopub.status.busy": "2022-06-09T07:49:59.342395Z",
     "iopub.status.idle": "2022-06-09T07:50:02.162124Z",
     "shell.execute_reply": "2022-06-09T07:50:02.161102Z",
     "shell.execute_reply.started": "2022-06-09T07:49:59.342803Z"
    }
   },
   "outputs": [
    {
     "name": "stdout",
     "output_type": "stream",
     "text": [
      "tensor(0.4817, grad_fn=<NllLossBackward0>)\n"
     ]
    }
   ],
   "source": [
    "model, opt = get_model()\n",
    "\n",
    "for epoch in range(epochs):\n",
    "    for xb, yb in train_dl:\n",
    "        pred = model(xb)\n",
    "        loss = loss_func(pred, yb)\n",
    "\n",
    "        loss.backward()\n",
    "        opt.step()\n",
    "        opt.zero_grad()\n",
    "\n",
    "print(loss_func(model(xb), yb))\n"
   ]
  },
  {
   "cell_type": "code",
   "execution_count": 41,
   "metadata": {
    "execution": {
     "iopub.execute_input": "2022-06-09T08:05:28.394351Z",
     "iopub.status.busy": "2022-06-09T08:05:28.393803Z",
     "iopub.status.idle": "2022-06-09T08:05:28.401102Z",
     "shell.execute_reply": "2022-06-09T08:05:28.399832Z",
     "shell.execute_reply.started": "2022-06-09T08:05:28.394311Z"
    }
   },
   "outputs": [],
   "source": [
    "train_ds = TensorDataset(x_train, y_train)\n",
    "train_dl = DataLoader(train_ds, shuffle=True, batch_size=bs)\n",
    "\n",
    "valid_ds = TensorDataset(x_valid, y_valid)\n",
    "valid_dl = DataLoader(valid_ds, shuffle=False, batch_size = bs * 2)"
   ]
  },
  {
   "cell_type": "code",
   "execution_count": 42,
   "metadata": {
    "execution": {
     "iopub.execute_input": "2022-06-09T08:07:28.545853Z",
     "iopub.status.busy": "2022-06-09T08:07:28.544761Z",
     "iopub.status.idle": "2022-06-09T08:07:28.551571Z",
     "shell.execute_reply": "2022-06-09T08:07:28.550419Z",
     "shell.execute_reply.started": "2022-06-09T08:07:28.545808Z"
    }
   },
   "outputs": [],
   "source": [
    "from torch import optim\n",
    "def get_model():\n",
    "    model = MnistLogistic()\n",
    "    opt = optim.SGD(model.parameters(), lr=lr)\n",
    "    return model, opt"
   ]
  },
  {
   "cell_type": "code",
   "execution_count": 43,
   "metadata": {
    "execution": {
     "iopub.execute_input": "2022-06-09T08:14:12.106670Z",
     "iopub.status.busy": "2022-06-09T08:14:12.106135Z",
     "iopub.status.idle": "2022-06-09T08:14:13.800046Z",
     "shell.execute_reply": "2022-06-09T08:14:13.798975Z",
     "shell.execute_reply.started": "2022-06-09T08:14:12.106624Z"
    }
   },
   "outputs": [
    {
     "name": "stdout",
     "output_type": "stream",
     "text": [
      "0 tensor(0.6293)\n",
      "1 tensor(0.4871)\n",
      "2 tensor(0.4309)\n",
      "3 tensor(0.4007)\n"
     ]
    }
   ],
   "source": [
    "def model(xb):\n",
    "    return xb @ weights + bias\n",
    "\n",
    "lr = 1e-2\n",
    "\n",
    "def get_model():\n",
    "    model = MnistLogistic()\n",
    "    return model, optim.SGD(model.parameters(), lr=lr)\n",
    "\n",
    "loss_func = F.cross_entropy\n",
    "model, opt = get_model()\n",
    "\n",
    "for epoch in range(epochs):\n",
    "    model.train()\n",
    "    for xb, yb in train_dl:\n",
    "        pred = model(xb)\n",
    "        loss = loss_func(pred, yb)\n",
    "\n",
    "        loss.backward()\n",
    "        opt.step()\n",
    "        opt.zero_grad()\n",
    "\n",
    "    model.eval()\n",
    "    with torch.no_grad():\n",
    "        valid_loss = sum(loss_func(model(xb), yb) for xb, yb in valid_dl)\n",
    "\n",
    "    print(epoch, valid_loss / len(valid_dl))\n"
   ]
  },
  {
   "cell_type": "code",
   "execution_count": 44,
   "metadata": {
    "execution": {
     "iopub.execute_input": "2022-06-09T08:16:39.929687Z",
     "iopub.status.busy": "2022-06-09T08:16:39.928554Z",
     "iopub.status.idle": "2022-06-09T08:16:39.935241Z",
     "shell.execute_reply": "2022-06-09T08:16:39.934280Z",
     "shell.execute_reply.started": "2022-06-09T08:16:39.929637Z"
    }
   },
   "outputs": [],
   "source": [
    "def loss_batch(model, loss_func, xb, yb, opt=None):\n",
    "    loss = loss_func(model(xb), yb)\n",
    "\n",
    "    if opt is not None:\n",
    "        loss.backward()\n",
    "        opt.step()\n",
    "        opt.zero_grad()\n",
    "\n",
    "    return loss.item(), len(xb)"
   ]
  },
  {
   "cell_type": "code",
   "execution_count": 45,
   "metadata": {
    "execution": {
     "iopub.execute_input": "2022-06-09T08:16:45.786103Z",
     "iopub.status.busy": "2022-06-09T08:16:45.785607Z",
     "iopub.status.idle": "2022-06-09T08:16:45.793412Z",
     "shell.execute_reply": "2022-06-09T08:16:45.792591Z",
     "shell.execute_reply.started": "2022-06-09T08:16:45.786061Z"
    }
   },
   "outputs": [],
   "source": [
    "import numpy as np\n",
    "\n",
    "def fit(epochs, model, loss_func, opt, train_dl, valid_dl):\n",
    "    for epoch in range(epochs):\n",
    "        model.train()\n",
    "        for xb, yb in train_dl:\n",
    "            loss_batch(model, loss_func, xb, yb, opt)\n",
    "\n",
    "        model.eval()\n",
    "        with torch.no_grad():\n",
    "            losses, nums = zip(\n",
    "                *[loss_batch(model, loss_func, xb, yb) for xb, yb in valid_dl]\n",
    "            )\n",
    "        val_loss = np.sum(np.multiply(losses, nums)) / np.sum(nums)\n",
    "\n",
    "        print(epoch, val_loss)"
   ]
  },
  {
   "cell_type": "code",
   "execution_count": 46,
   "metadata": {
    "execution": {
     "iopub.execute_input": "2022-06-09T08:17:02.523151Z",
     "iopub.status.busy": "2022-06-09T08:17:02.522657Z",
     "iopub.status.idle": "2022-06-09T08:17:02.529462Z",
     "shell.execute_reply": "2022-06-09T08:17:02.528292Z",
     "shell.execute_reply.started": "2022-06-09T08:17:02.523114Z"
    }
   },
   "outputs": [],
   "source": [
    "def get_data(train_ds, valid_ds, bs):\n",
    "    return (\n",
    "        DataLoader(train_ds, batch_size=bs, shuffle=True),\n",
    "        DataLoader(valid_ds, batch_size=bs * 2),\n",
    "    )"
   ]
  },
  {
   "cell_type": "code",
   "execution_count": 47,
   "metadata": {
    "execution": {
     "iopub.execute_input": "2022-06-09T08:17:10.193164Z",
     "iopub.status.busy": "2022-06-09T08:17:10.192751Z",
     "iopub.status.idle": "2022-06-09T08:17:11.892756Z",
     "shell.execute_reply": "2022-06-09T08:17:11.891669Z",
     "shell.execute_reply.started": "2022-06-09T08:17:10.193134Z"
    }
   },
   "outputs": [
    {
     "name": "stdout",
     "output_type": "stream",
     "text": [
      "0 0.6297250365257263\n",
      "1 0.48843025832176207\n",
      "2 0.4325468255996704\n",
      "3 0.402390043759346\n"
     ]
    }
   ],
   "source": [
    "train_dl, valid_dl = get_data(train_ds, valid_ds, bs)\n",
    "model, opt = get_model()\n",
    "fit(epochs, model, loss_func, opt, train_dl, valid_dl)"
   ]
  },
  {
   "cell_type": "markdown",
   "metadata": {},
   "source": [
    "# CNN example"
   ]
  },
  {
   "cell_type": "code",
   "execution_count": 48,
   "metadata": {
    "execution": {
     "iopub.execute_input": "2022-06-09T08:32:57.451146Z",
     "iopub.status.busy": "2022-06-09T08:32:57.450589Z",
     "iopub.status.idle": "2022-06-09T08:32:57.462547Z",
     "shell.execute_reply": "2022-06-09T08:32:57.461351Z",
     "shell.execute_reply.started": "2022-06-09T08:32:57.451099Z"
    }
   },
   "outputs": [],
   "source": [
    "class MnistCNN(nn.Module):\n",
    "    def __init__(self):\n",
    "        super().__init__()\n",
    "        self.conv1 = nn.Conv2d(1, 16, 3, stride=2, padding=1)\n",
    "        self.conv2 = nn.Conv2d(16, 16, 3, stride=2, padding=1)        \n",
    "        self.conv3 = nn.Conv2d(16, 10, 3, stride=2, padding=1)        \n",
    "    def forward(self, x):\n",
    "        x = x.view(-1, 1, 28, 28)\n",
    "        x = self.conv1(x)\n",
    "        x = F.relu(x)\n",
    "        \n",
    "        x = self.conv2(x)\n",
    "        x = F.relu(x)\n",
    "        \n",
    "        x = self.conv3(x)\n",
    "        x = F.relu(x)\n",
    "        \n",
    "        x = F.avg_pool2d(x, 4)\n",
    "        return x.view(-1, x.size(1))\n",
    "    \n",
    "lr = .1"
   ]
  },
  {
   "cell_type": "code",
   "execution_count": 49,
   "metadata": {
    "execution": {
     "iopub.execute_input": "2022-06-09T08:33:13.147672Z",
     "iopub.status.busy": "2022-06-09T08:33:13.147218Z",
     "iopub.status.idle": "2022-06-09T08:33:20.321484Z",
     "shell.execute_reply": "2022-06-09T08:33:20.320451Z",
     "shell.execute_reply.started": "2022-06-09T08:33:13.147639Z"
    }
   },
   "outputs": [
    {
     "name": "stdout",
     "output_type": "stream",
     "text": [
      "0 0.3820739158153534\n",
      "1 0.3690844863653183\n",
      "2 0.23246224037408827\n",
      "3 0.22201058514416216\n"
     ]
    }
   ],
   "source": [
    "model = MnistCNN()\n",
    "opt = optim.SGD(model.parameters(), lr=lr, momentum=0.9)\n",
    "\n",
    "fit(epochs, model, loss_func, opt, train_dl, valid_dl)"
   ]
  },
  {
   "cell_type": "code",
   "execution_count": 50,
   "metadata": {
    "execution": {
     "iopub.execute_input": "2022-06-09T08:44:34.307320Z",
     "iopub.status.busy": "2022-06-09T08:44:34.306842Z",
     "iopub.status.idle": "2022-06-09T08:44:41.744111Z",
     "shell.execute_reply": "2022-06-09T08:44:41.743017Z",
     "shell.execute_reply.started": "2022-06-09T08:44:34.307287Z"
    }
   },
   "outputs": [
    {
     "name": "stdout",
     "output_type": "stream",
     "text": [
      "0 0.35259698622226715\n",
      "1 0.2482342146396637\n",
      "2 0.17243162748813629\n",
      "3 0.19574441639184953\n"
     ]
    }
   ],
   "source": [
    "class Lambda(nn.Module):\n",
    "    def __init__(self, func):\n",
    "        super().__init__()\n",
    "        self.func = func\n",
    "\n",
    "    def forward(self, x):\n",
    "        return self.func(x)\n",
    "\n",
    "\n",
    "def preprocess(x):\n",
    "    return x.view(-1, 1, 28, 28)\n",
    "\n",
    "model = nn.Sequential(\n",
    "    Lambda(preprocess),\n",
    "    nn.Conv2d(1, 16, kernel_size=3, stride=2, padding=1),\n",
    "    nn.ReLU(),\n",
    "    nn.Conv2d(16, 16, kernel_size=3, stride=2, padding=1),\n",
    "    nn.ReLU(),\n",
    "    nn.Conv2d(16, 10, kernel_size=3, stride=2, padding=1),\n",
    "    nn.ReLU(),\n",
    "    nn.AvgPool2d(4),\n",
    "    Lambda(lambda x: x.view(x.size(0), -1)),\n",
    ")\n",
    "\n",
    "opt = optim.SGD(model.parameters(), lr=lr, momentum=0.9)\n",
    "\n",
    "fit(epochs, model, loss_func, opt, train_dl, valid_dl)"
   ]
  },
  {
   "cell_type": "code",
   "execution_count": 51,
   "metadata": {
    "execution": {
     "iopub.execute_input": "2022-06-09T08:45:56.661868Z",
     "iopub.status.busy": "2022-06-09T08:45:56.661392Z",
     "iopub.status.idle": "2022-06-09T08:45:56.670245Z",
     "shell.execute_reply": "2022-06-09T08:45:56.669457Z",
     "shell.execute_reply.started": "2022-06-09T08:45:56.661833Z"
    }
   },
   "outputs": [],
   "source": [
    "def preprocess(x, y):\n",
    "    return x.view(-1, 1, 28, 28), y\n",
    "\n",
    "\n",
    "class WrappedDataLoader:\n",
    "    def __init__(self, dl, func):\n",
    "        self.dl = dl\n",
    "        self.func = func\n",
    "\n",
    "    def __len__(self):\n",
    "        return len(self.dl)\n",
    "\n",
    "    def __iter__(self):\n",
    "        batches = iter(self.dl)\n",
    "        for b in batches:\n",
    "            yield (self.func(*b))\n",
    "\n",
    "train_dl, valid_dl = get_data(train_ds, valid_ds, bs)\n",
    "train_dl = WrappedDataLoader(train_dl, preprocess)\n",
    "valid_dl = WrappedDataLoader(valid_dl, preprocess)\n"
   ]
  },
  {
   "cell_type": "code",
   "execution_count": 52,
   "metadata": {
    "execution": {
     "iopub.execute_input": "2022-06-09T08:46:51.779711Z",
     "iopub.status.busy": "2022-06-09T08:46:51.779196Z",
     "iopub.status.idle": "2022-06-09T08:46:58.978022Z",
     "shell.execute_reply": "2022-06-09T08:46:58.976917Z",
     "shell.execute_reply.started": "2022-06-09T08:46:51.779671Z"
    }
   },
   "outputs": [
    {
     "name": "stdout",
     "output_type": "stream",
     "text": [
      "0 0.3955561239004135\n",
      "1 0.2759645649552345\n",
      "2 0.25220152577161786\n",
      "3 0.21339599931240083\n"
     ]
    }
   ],
   "source": [
    "model = nn.Sequential(\n",
    "    nn.Conv2d(1, 16, kernel_size=3, stride=2, padding=1),\n",
    "    nn.ReLU(),\n",
    "    nn.Conv2d(16, 16, kernel_size=3, stride=2, padding=1),\n",
    "    nn.ReLU(),\n",
    "    nn.Conv2d(16, 10, kernel_size=3, stride=2, padding=1),\n",
    "    nn.ReLU(),\n",
    "    nn.AdaptiveAvgPool2d(1),\n",
    "    Lambda(lambda x: x.view(x.size(0), -1)),\n",
    ")\n",
    "\n",
    "opt = optim.SGD(model.parameters(), lr=lr, momentum=0.9)\n",
    "fit(epochs, model, loss_func, opt, train_dl, valid_dl)"
   ]
  },
  {
   "cell_type": "code",
   "execution_count": 53,
   "metadata": {
    "execution": {
     "iopub.execute_input": "2022-06-09T08:48:42.150146Z",
     "iopub.status.busy": "2022-06-09T08:48:42.149742Z",
     "iopub.status.idle": "2022-06-09T08:48:42.156656Z",
     "shell.execute_reply": "2022-06-09T08:48:42.155752Z",
     "shell.execute_reply.started": "2022-06-09T08:48:42.150114Z"
    }
   },
   "outputs": [
    {
     "data": {
      "text/plain": [
       "True"
      ]
     },
     "execution_count": 53,
     "metadata": {},
     "output_type": "execute_result"
    }
   ],
   "source": [
    "torch.cuda.is_available()"
   ]
  },
  {
   "cell_type": "code",
   "execution_count": 54,
   "metadata": {},
   "outputs": [],
   "source": [
    "dev = torch.device(\n",
    "    \"cuda\") if torch.cuda.is_available() else torch.device(\"cpu\")"
   ]
  },
  {
   "cell_type": "code",
   "execution_count": 57,
   "metadata": {},
   "outputs": [],
   "source": [
    "def preprocess(x,y):\n",
    "    return x.view(-1,1,28,28).to(dev), y.to(dev)\n",
    "\n",
    "train_dl, valid_dl = get_data(train_ds, valid_ds,bs)\n",
    "train_dl = WrappedDataLoader(train_dl, preprocess)\n",
    "valid_dl = WrappedDataLoader(valid_dl, preprocess)"
   ]
  },
  {
   "cell_type": "code",
   "execution_count": 58,
   "metadata": {},
   "outputs": [],
   "source": [
    "model.to(dev)\n",
    "opt = optim.SGD(model.parameters(), lr=lr, momentum=.9)"
   ]
  },
  {
   "cell_type": "code",
   "execution_count": 59,
   "metadata": {},
   "outputs": [
    {
     "name": "stdout",
     "output_type": "stream",
     "text": [
      "0 0.1694176643371582\n",
      "1 0.1687981747984886\n",
      "2 0.21883217839002608\n",
      "3 0.1451371349155903\n"
     ]
    }
   ],
   "source": [
    "fit(epochs, model, loss_func, opt, train_dl, valid_dl)"
   ]
  },
  {
   "cell_type": "code",
   "execution_count": null,
   "metadata": {},
   "outputs": [],
   "source": []
  }
 ],
 "metadata": {
  "kernelspec": {
   "display_name": "Python 3 (ipykernel)",
   "language": "python",
   "name": "python3"
  },
  "language_info": {
   "codemirror_mode": {
    "name": "ipython",
    "version": 3
   },
   "file_extension": ".py",
   "mimetype": "text/x-python",
   "name": "python",
   "nbconvert_exporter": "python",
   "pygments_lexer": "ipython3",
   "version": "3.8.13"
  }
 },
 "nbformat": 4,
 "nbformat_minor": 4
}
